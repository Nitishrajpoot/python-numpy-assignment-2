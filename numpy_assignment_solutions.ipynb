{
 "cells": [
  {
   "cell_type": "code",
   "execution_count": 1,
   "id": "24ef5d53",
   "metadata": {},
   "outputs": [],
   "source": [
    "import numpy as np\n",
    "import pandas as pd"
   ]
  },
  {
   "cell_type": "markdown",
   "id": "a40129e6",
   "metadata": {},
   "source": [
    "## Data Types & Attributes"
   ]
  },
  {
   "cell_type": "code",
   "execution_count": 2,
   "id": "413a2550",
   "metadata": {},
   "outputs": [
    {
     "name": "stdout",
     "output_type": "stream",
     "text": [
      "int32\n"
     ]
    }
   ],
   "source": [
    "arr = np.arange(6)\n",
    "print(arr.dtype)\n",
    "\n",
    "is_float64 = arr.dtype == np.float64\n",
    "\n",
    "arr = np.array([1+2j, 3+4j, 5+6j], dtype=np.complex128)\n",
    "\n",
    "arr = np.array([1, 2, 3])\n",
    "arr_float32 = arr.astype(np.float32)\n",
    "\n",
    "arr = np.array([1.1, 2.2, 3.3], dtype=np.float64)\n",
    "arr_float32 = arr.astype(np.float32)\n",
    "\n",
    "def array_attributes(arr):\n",
    "    return arr.shape, arr.size, arr.dtype\n",
    "\n",
    "def array_dimension(arr):\n",
    "    return arr.ndim\n",
    "\n",
    "def item_size_info(arr):\n",
    "    return arr.itemsize, arr.nbytes\n",
    "\n",
    "def array_strides(arr):\n",
    "    return arr.strides\n",
    "\n",
    "def shape_stride_relationship(arr):\n",
    "    return arr.shape, arr.strides"
   ]
  },
  {
   "cell_type": "markdown",
   "id": "67ea1883",
   "metadata": {},
   "source": [
    "## Array Creation"
   ]
  },
  {
   "cell_type": "code",
   "execution_count": 3,
   "id": "5afe01ef",
   "metadata": {},
   "outputs": [],
   "source": [
    "def create_zeros_array(n):\n",
    "    return np.zeros(n)\n",
    "\n",
    "def create_ones_matrix(rows, cols):\n",
    "    return np.ones((rows, cols))\n",
    "\n",
    "def generate_range_array(start, stop, step):\n",
    "    return np.arange(start, stop, step)\n",
    "\n",
    "def generate_linear_space(start, stop, num):\n",
    "    return np.linspace(start, stop, num)\n",
    "\n",
    "def create_identity_matrix(n):\n",
    "    return np.eye(n)\n",
    "\n",
    "def list_to_array(lst):\n",
    "    return np.array(lst)\n",
    "\n",
    "arr = np.array([1, 2, 3, 4])\n",
    "view_arr = arr.view()"
   ]
  },
  {
   "cell_type": "markdown",
   "id": "4563cb1a",
   "metadata": {},
   "source": [
    "## Concatenation and Stacking"
   ]
  },
  {
   "cell_type": "code",
   "execution_count": 4,
   "id": "75509229",
   "metadata": {},
   "outputs": [],
   "source": [
    "def concat_arrays(arr1, arr2, axis):\n",
    "    return np.concatenate((arr1, arr2), axis=axis)\n",
    "\n",
    "arr1 = np.array([[1, 2]])\n",
    "arr2 = np.array([[3], [4]])\n",
    "concat_result = np.concatenate((arr1.T, arr2), axis=1)\n",
    "\n",
    "def stack_vertical(arrays):\n",
    "    return np.vstack(arrays)"
   ]
  },
  {
   "cell_type": "markdown",
   "id": "584efae7",
   "metadata": {},
   "source": [
    "## Array Generation"
   ]
  },
  {
   "cell_type": "code",
   "execution_count": 5,
   "id": "0d37e480",
   "metadata": {},
   "outputs": [
    {
     "data": {
      "text/plain": [
       "array([   1.        ,    5.62341325,   31.6227766 ,  177.827941  ,\n",
       "       1000.        ])"
      ]
     },
     "execution_count": 5,
     "metadata": {},
     "output_type": "execute_result"
    }
   ],
   "source": [
    "def generate_int_range(start, stop, step):\n",
    "    return np.arange(start, stop + 1, step)\n",
    "\n",
    "np.linspace(0, 1, 10)\n",
    "\n",
    "np.logspace(0, 3, 5, base=10)"
   ]
  },
  {
   "cell_type": "markdown",
   "id": "9c7933f0",
   "metadata": {},
   "source": [
    "## Pandas + NumPy"
   ]
  },
  {
   "cell_type": "code",
   "execution_count": 6,
   "id": "381befe9",
   "metadata": {},
   "outputs": [],
   "source": [
    "data = np.random.randint(1, 101, size=(5, 3))\n",
    "df = pd.DataFrame(data)\n",
    "\n",
    "def replace_negatives_with_zero(df, column):\n",
    "    df[column] = np.where(df[column] < 0, 0, df[column])\n",
    "    return df"
   ]
  },
  {
   "cell_type": "markdown",
   "id": "426e3b0e",
   "metadata": {},
   "source": [
    "## Indexing and Slicing"
   ]
  },
  {
   "cell_type": "code",
   "execution_count": 7,
   "id": "943d4e5b",
   "metadata": {},
   "outputs": [],
   "source": [
    "arr = np.array([10, 20, 30, 40])\n",
    "element = arr[2]\n",
    "\n",
    "arr2d = np.array([[1, 2, 3], [4, 5, 6]])\n",
    "value = arr2d[1, 2]\n",
    "\n",
    "arr = np.array([1, 6, 3, 8])\n",
    "filtered = arr[arr > 5]\n",
    "\n",
    "arr = np.array([0, 1, 2, 3, 4, 5, 6])\n",
    "sliced = arr[2:6]\n",
    "\n",
    "arr2d = np.array([[1, 2, 3], [4, 5, 6]])\n",
    "sub_arr = arr2d[:, 1:]"
   ]
  },
  {
   "cell_type": "markdown",
   "id": "7df7fd99",
   "metadata": {},
   "source": [
    "## Advanced Indexing"
   ]
  },
  {
   "cell_type": "code",
   "execution_count": 8,
   "id": "d3a84468",
   "metadata": {},
   "outputs": [],
   "source": [
    "arr = np.array([[10, 20], [30, 40]])\n",
    "indices = [0, 1]\n",
    "elements = arr[indices, indices]\n",
    "\n",
    "arr = np.array([10, 20, 30, 40])\n",
    "filtered = arr[arr > 25]\n",
    "\n",
    "arr3d = np.arange(27).reshape(3, 3, 3)\n",
    "result = arr3d[[0, 1], [1, 2], [2, 0]]\n",
    "\n",
    "arr = np.array([10, 20, 30, 40])\n",
    "filtered = arr[(arr > 15) & (arr < 35)]\n",
    "\n",
    "arr2d = np.array([[1, 2], [3, 4]])\n",
    "rows = [0, 1]\n",
    "cols = [1, 0]\n",
    "selected = arr2d[rows, cols]"
   ]
  },
  {
   "cell_type": "markdown",
   "id": "8a7c0241",
   "metadata": {},
   "source": [
    "## Broadcasting"
   ]
  },
  {
   "cell_type": "code",
   "execution_count": 9,
   "id": "ac9fd564",
   "metadata": {},
   "outputs": [],
   "source": [
    "arr = np.array([1, 2, 3])\n",
    "arr_plus_5 = arr + 5\n",
    "\n",
    "arr = np.ones((3, 4))\n",
    "row_factors = np.array([[1], [2], [3]])\n",
    "result = arr * row_factors\n",
    "\n",
    "a = np.ones((4, 3))\n",
    "b = np.array([[1, 2, 3, 4]]).T\n",
    "result = a + b\n",
    "\n",
    "a = np.ones((3, 1))\n",
    "b = np.ones((1, 3))\n",
    "result = a + b\n",
    "\n",
    "a = np.ones((2, 3))\n",
    "b = np.ones((2, 2))\n",
    "# incompatible: ValueError if multiplied"
   ]
  },
  {
   "cell_type": "markdown",
   "id": "0edffde1",
   "metadata": {},
   "source": [
    "## Aggregations and Statistics"
   ]
  },
  {
   "cell_type": "code",
   "execution_count": 10,
   "id": "7a590ab9",
   "metadata": {},
   "outputs": [
    {
     "data": {
      "text/plain": [
       "array([ True,  True])"
      ]
     },
     "execution_count": 10,
     "metadata": {},
     "output_type": "execute_result"
    }
   ],
   "source": [
    "arr = np.random.rand(3, 4)\n",
    "column_mean = arr.mean(axis=0)\n",
    "row_max = arr.max(axis=1)\n",
    "col_max_indices = arr.argmax(axis=0)\n",
    "\n",
    "def moving_sum(arr, k):\n",
    "    return np.apply_along_axis(lambda x: np.convolve(x, np.ones(k, dtype=int), 'valid'), 1, arr)\n",
    "\n",
    "arr = np.array([[2, 4], [6, 8]])\n",
    "np.all(arr % 2 == 0, axis=0)"
   ]
  },
  {
   "cell_type": "markdown",
   "id": "1b976ae2",
   "metadata": {},
   "source": [
    "## Reshaping and Flattening"
   ]
  },
  {
   "cell_type": "code",
   "execution_count": 11,
   "id": "ae45a34a",
   "metadata": {},
   "outputs": [],
   "source": [
    "arr = np.arange(6)\n",
    "reshaped = arr.reshape(2, 3)\n",
    "flattened = arr.flatten()\n",
    "np.concatenate((arr, arr), axis=0)\n",
    "np.split(arr, 2)\n",
    "arr_inserted = np.insert(arr, 2, 99)\n",
    "arr_deleted = np.delete(arr, 2)"
   ]
  },
  {
   "cell_type": "markdown",
   "id": "5fcdcee7",
   "metadata": {},
   "source": [
    "## Element-wise Operations"
   ]
  },
  {
   "cell_type": "code",
   "execution_count": 12,
   "id": "45569245",
   "metadata": {},
   "outputs": [],
   "source": [
    "arr = np.array([1, 2, 3])\n",
    "np.add(arr, arr)\n",
    "\n",
    "arr1 = np.array([5, 10])\n",
    "arr2 = np.array([2, 3])\n",
    "result = arr1 - arr2\n",
    "result = arr1 * arr2\n",
    "result = arr1 / arr2\n",
    "result = arr1 ** arr2"
   ]
  },
  {
   "cell_type": "markdown",
   "id": "b77a6b09",
   "metadata": {},
   "source": [
    "## String Operations"
   ]
  },
  {
   "cell_type": "code",
   "execution_count": 13,
   "id": "be57aea2",
   "metadata": {},
   "outputs": [
    {
     "ename": "AttributeError",
     "evalue": "module 'numpy.core.defchararray' has no attribute 'findall'",
     "output_type": "error",
     "traceback": [
      "\u001b[1;31m---------------------------------------------------------------------------\u001b[0m",
      "\u001b[1;31mAttributeError\u001b[0m                            Traceback (most recent call last)",
      "Cell \u001b[1;32mIn[13], line 5\u001b[0m\n\u001b[0;32m      2\u001b[0m np\u001b[38;5;241m.\u001b[39mchar\u001b[38;5;241m.\u001b[39mcount(arr, \u001b[38;5;124m'\u001b[39m\u001b[38;5;124mapple\u001b[39m\u001b[38;5;124m'\u001b[39m)\n\u001b[0;32m      4\u001b[0m arr \u001b[38;5;241m=\u001b[39m np\u001b[38;5;241m.\u001b[39marray([\u001b[38;5;124m'\u001b[39m\u001b[38;5;124mHello\u001b[39m\u001b[38;5;124m'\u001b[39m, \u001b[38;5;124m'\u001b[39m\u001b[38;5;124mWorld123\u001b[39m\u001b[38;5;124m'\u001b[39m])\n\u001b[1;32m----> 5\u001b[0m np\u001b[38;5;241m.\u001b[39mchar\u001b[38;5;241m.\u001b[39mfindall(arr, \u001b[38;5;124mr\u001b[39m\u001b[38;5;124m'\u001b[39m\u001b[38;5;124m[A-Z]\u001b[39m\u001b[38;5;124m'\u001b[39m)\n\u001b[0;32m      7\u001b[0m np\u001b[38;5;241m.\u001b[39mchar\u001b[38;5;241m.\u001b[39mreplace(arr, \u001b[38;5;124m'\u001b[39m\u001b[38;5;124mapple\u001b[39m\u001b[38;5;124m'\u001b[39m, \u001b[38;5;124m'\u001b[39m\u001b[38;5;124morange\u001b[39m\u001b[38;5;124m'\u001b[39m)\n\u001b[0;32m      9\u001b[0m arr1 \u001b[38;5;241m=\u001b[39m np\u001b[38;5;241m.\u001b[39marray([\u001b[38;5;124m'\u001b[39m\u001b[38;5;124ma\u001b[39m\u001b[38;5;124m'\u001b[39m, \u001b[38;5;124m'\u001b[39m\u001b[38;5;124mb\u001b[39m\u001b[38;5;124m'\u001b[39m])\n",
      "\u001b[1;31mAttributeError\u001b[0m: module 'numpy.core.defchararray' has no attribute 'findall'"
     ]
    }
   ],
   "source": [
    "arr = np.array(['apple', 'banana', 'apple'])\n",
    "np.char.count(arr, 'apple')\n",
    "\n",
    "arr = np.array(['Hello', 'World123'])\n",
    "np.char.findall(arr, r'[A-Z]')\n",
    "\n",
    "np.char.replace(arr, 'apple', 'orange')\n",
    "\n",
    "arr1 = np.array(['a', 'b'])\n",
    "arr2 = np.array(['1', '2'])\n",
    "np.char.add(arr1, arr2)\n",
    "\n",
    "arr = np.array(['short', 'longeststring', 'mid'])\n",
    "max_len = max(map(len, arr))"
   ]
  },
  {
   "cell_type": "markdown",
   "id": "ab2aa8a2",
   "metadata": {},
   "source": [
    "## Descriptive Statistics"
   ]
  },
  {
   "cell_type": "code",
   "execution_count": null,
   "id": "2b7da6fb",
   "metadata": {},
   "outputs": [],
   "source": [
    "arr = np.random.randint(1, 1001, 100)\n",
    "mean = np.mean(arr)\n",
    "median = np.median(arr)\n",
    "variance = np.var(arr)\n",
    "std_dev = np.std(arr)\n",
    "\n",
    "arr = np.random.randint(1, 101, 50)\n",
    "np.percentile(arr, [25, 75])\n",
    "\n",
    "x = np.random.rand(10)\n",
    "y = np.random.rand(10)\n",
    "np.corrcoef(x, y)\n",
    "\n",
    "a = np.array([[1, 2], [3, 4]])\n",
    "b = np.array([[5, 6], [7, 8]])\n",
    "np.dot(a, b)\n",
    "\n",
    "arr = np.random.randint(1, 100, 50)\n",
    "percentiles = np.percentile(arr, [10, 50, 90])"
   ]
  },
  {
   "cell_type": "markdown",
   "id": "3f101e26",
   "metadata": {},
   "source": [
    "## Search and Sort"
   ]
  },
  {
   "cell_type": "code",
   "execution_count": null,
   "id": "d2ed805d",
   "metadata": {},
   "outputs": [],
   "source": [
    "arr = np.array([10, 20, 30, 40])\n",
    "np.where(arr == 30)[0][0]\n",
    "np.sort(arr)\n",
    "arr[arr > 20]\n",
    "arr[arr % 3 == 0]\n",
    "arr[(arr >= 20) & (arr <= 40)]"
   ]
  },
  {
   "cell_type": "markdown",
   "id": "820dba1b",
   "metadata": {},
   "source": [
    "## Byte Order & Swapping"
   ]
  },
  {
   "cell_type": "code",
   "execution_count": null,
   "id": "67987faf",
   "metadata": {},
   "outputs": [],
   "source": [
    "arr = np.array([1, 2, 3])\n",
    "arr.dtype.byteorder\n",
    "arr.byteswap(inplace=True)"
   ]
  }
 ],
 "metadata": {
  "kernelspec": {
   "display_name": "Python 3 (ipykernel)",
   "language": "python",
   "name": "python3"
  },
  "language_info": {
   "codemirror_mode": {
    "name": "ipython",
    "version": 3
   },
   "file_extension": ".py",
   "mimetype": "text/x-python",
   "name": "python",
   "nbconvert_exporter": "python",
   "pygments_lexer": "ipython3",
   "version": "3.12.7"
  }
 },
 "nbformat": 4,
 "nbformat_minor": 5
}
